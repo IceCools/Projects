{
 "cells": [
  {
   "cell_type": "code",
   "execution_count": 75,
   "id": "2d01c371-4b61-482b-971a-c63cf8ac2257",
   "metadata": {
    "tags": []
   },
   "outputs": [
    {
     "name": "stderr",
     "output_type": "stream",
     "text": [
      "2024-04-08 14:55:06 [urllib3.connectionpool] DEBUG: Starting new HTTPS connection (1): lista.mercadolivre.com.br:443\n",
      "2024-04-08 14:55:07 [urllib3.connectionpool] DEBUG: https://lista.mercadolivre.com.br:443 \"GET /notebook HTTP/1.1\" 200 None\n",
      "2024-04-08 14:55:07 [urllib3.connectionpool] DEBUG: Starting new HTTPS connection (1): lista.mercadolivre.com.br:443\n",
      "2024-04-08 14:55:08 [urllib3.connectionpool] DEBUG: https://lista.mercadolivre.com.br:443 \"GET /headphones HTTP/1.1\" 200 None\n",
      "2024-04-08 14:55:09 [urllib3.connectionpool] DEBUG: Starting new HTTPS connection (1): lista.mercadolivre.com.br:443\n",
      "2024-04-08 14:55:10 [urllib3.connectionpool] DEBUG: https://lista.mercadolivre.com.br:443 \"GET /placa%20de%20video HTTP/1.1\" 301 None\n",
      "2024-04-08 14:55:11 [urllib3.connectionpool] DEBUG: https://lista.mercadolivre.com.br:443 \"GET /placa-de-video HTTP/1.1\" 200 None\n"
     ]
    }
   ],
   "source": [
    "import requests\n",
    "from bs4 import BeautifulSoup\n",
    "import pandas as pd\n",
    "\n",
    "def scrape_mercado_livre(category):\n",
    "    url = f'https://lista.mercadolivre.com.br/{category}'\n",
    "    headers = {'User-Agent': 'Mozilla/5.0'}\n",
    "    response = requests.get(url, headers=headers)\n",
    "    response.encoding = 'utf-8'  # Ou a codificação apropriada para o site\n",
    "    soup = BeautifulSoup(response.text, 'html.parser')\n",
    "\n",
    "    if response.status_code != 200:\n",
    "        print(f\"Falha na requisição para {category}: Status Code\", response.status_code)\n",
    "        return []\n",
    "\n",
    "    soup = BeautifulSoup(response.content, 'html.parser')\n",
    "    products = []\n",
    "\n",
    "    for product in soup.find_all('h2', {'class': 'ui-search-item__title'}):\n",
    "        title = product.text.strip()\n",
    "        price_container = product.find_next('span', {'class': 'andes-money-amount__fraction'})\n",
    "        if price_container:\n",
    "            price = 'R$ ' + price_container.text.strip()\n",
    "        else:\n",
    "            price = 'Preço não disponível'\n",
    "\n",
    "        products.append({'category': category, 'title': title, 'price': price})\n",
    "\n",
    "    return products\n",
    "\n",
    "# Categorias\n",
    "categories = ['notebook', 'headphones', 'placa de video']\n",
    "\n",
    "# Scraping dos dados para todas as categorias\n",
    "all_products = []\n",
    "for category in categories:\n",
    "    products = scrape_mercado_livre(category)\n",
    "    all_products.extend(products)\n",
    "\n",
    "# Convertendo para DataFrame e salvando em CSV\n",
    "df = pd.DataFrame(all_products)\n",
    "df.to_csv('ML_products.csv', index=False)\n"
   ]
  },
  {
   "cell_type": "raw",
   "id": "60be9eaf-1440-4062-ac0b-c1159229804e",
   "metadata": {},
   "source": []
  }
 ],
 "metadata": {
  "kernelspec": {
   "display_name": "Python 3 (ipykernel)",
   "language": "python",
   "name": "python3"
  },
  "language_info": {
   "codemirror_mode": {
    "name": "ipython",
    "version": 3
   },
   "file_extension": ".py",
   "mimetype": "text/x-python",
   "name": "python",
   "nbconvert_exporter": "python",
   "pygments_lexer": "ipython3",
   "version": "3.11.5"
  }
 },
 "nbformat": 4,
 "nbformat_minor": 5
}
